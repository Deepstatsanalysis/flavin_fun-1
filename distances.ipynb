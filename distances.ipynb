{
 "cells": [
  {
   "cell_type": "markdown",
   "metadata": {},
   "source": [
    "# Distance Script #\n",
    "Code Created By: David Kim, Sabine Hutter, Tyler Walker, and Ibrahim Rasheed\n",
    "\n",
    "This script finds the distance between the isoalloxazine and its surrounding atoms and heteroatoms."
   ]
  },
  {
   "cell_type": "code",
   "execution_count": 1,
   "metadata": {
    "collapsed": true
   },
   "outputs": [],
   "source": [
    "!pip install biopandas\n",
    "!pip install pandas\n",
    "!pip install numpy\n",
    "!pip install csv\n",
    "!pip install pyplot\n",
    "!pip install mplot3d\n",
    "\n",
    "%matplotlib inline\n",
    "\n",
    "import pandas as pd\n",
    "import numpy as np\n",
    "from biopandas.pdb import PandasPdb as PandasPdb\n",
    "import csv\n",
    "import matplotlib.pyplot as plt\n",
    "from mpl_toolkits.mplot3d import Axes3D"
   ]
  },
  {
   "cell_type": "markdown",
   "metadata": {},
   "source": [
    "## Global Variables and PDB Loading ##\n",
    "The block below represents the variables, which hold key dataframes, lists, and objects from BioPandas, that are needed throughout the whole code. It is kept as global because it is much easier to access instead of having to pass through each variable for every function.\n",
    "\n",
    "In this block, the pdb file of the desired flavoprotein is loaded and created into dataframes. The dataframes will allow the code to look up the coordinates for individual atoms in the flavoprotein to find the distances."
   ]
  },
  {
   "cell_type": "code",
   "execution_count": 2,
   "metadata": {},
   "outputs": [
    {
     "name": "stdout",
     "output_type": "stream",
     "text": [
      "Please enter flavin molecule: 1kif.pdb\n",
      "Please enter desired angstrom limit: 3.5\n"
     ]
    }
   ],
   "source": [
    "key_atoms = ['N1', 'C2', 'O2', 'N3', 'C4', 'O4', 'C4A', 'C4X', 'N5', 'C5A', 'C5X', 'C6', 'C7', 'C7M', 'C8', 'C8M', 'C9', 'C9A', 'N10', 'C10']\n",
    "key_res = ['FMN', 'FAD']\n",
    "ambiguous_atom = ['C4A', 'C4X', 'C5A', 'C5X']\n",
    "\n",
    "#Choose flavoprotein and angstrom limit\n",
    "flavoprotein = input(\"Please enter flavin molecule: \")\n",
    "angstrom_limit = float(input(\"Please enter desired angstrom limit: \"))\n",
    "ppdb = PandasPdb().fetch_pdb(flavoprotein)\n",
    "\n",
    "#Create dataframes from chosen pdb file\n",
    "df_atom = ppdb.df['ATOM']\n",
    "df_hetatm = ppdb.df['HETATM']\n",
    "df = pd.concat([df_atom, df_hetatm])\n",
    "df = df.reset_index(drop=True)"
   ]
  },
  {
   "cell_type": "markdown",
   "metadata": {},
   "source": [
    "## Amiguous Atom Name Fix ##\n",
    "In the PDB files, C4A and C4X, as well as C5A and C5X, the 'A' and 'X' label are interchangeable. However, the 'A' and 'X' atoms are not the same. The important one is in the isoalloxazine structure. This function is used to find the index number of N5, an atom in the isoalloxazine structure. By finding the index number for N5, the code can check to see if the 'A' or 'X' atom lies within the isoalloxazine structure by measuring the distance to the N5 atom. "
   ]
  },
  {
   "cell_type": "code",
   "execution_count": 3,
   "metadata": {
    "collapsed": true
   },
   "outputs": [],
   "source": [
    "#Find index number of N5 to check which of the ambiguous atoms are isoalloxazines\n",
    "def check_ambiguous_atoms():\n",
    "    index_N5 = []\n",
    "    for i in range(len(df_hetatm)): #Use df_hetatm instead of df because distance function reads only separated dataframe\n",
    "        if df_hetatm.atom_name[i]== 'N5':\n",
    "            index_N5.append(i)\n",
    "        else:\n",
    "            continue\n",
    "    return(index_N5)"
   ]
  },
  {
   "cell_type": "markdown",
   "metadata": {},
   "source": [
    "## Removing Irrelevant C1 Atom ##\n",
    "The isoalloxazine structure is a set, predictable structure. The C1 atom, which is not part of the structure, is also always in the same position. Since the C1 position is already known, it is not needed when gathering distances of surrounding atom/heteroatoms. The purpose of this function is to find the index number of the C1 atom that is attached to the isoalloxazine structure in the dataframe to remove it later on."
   ]
  },
  {
   "cell_type": "code",
   "execution_count": 4,
   "metadata": {
    "collapsed": true
   },
   "outputs": [],
   "source": [
    "#Find index number of C1 to exclude distant between isoalloxazine and C1 atom\n",
    "def check_c1_atom():\n",
    "    index_C1 = []\n",
    "    for i in range(len(df_hetatm)): #Use df_hetatm instead of df because distance function reads only separated dataframe\n",
    "        if df_hetatm.atom_name[i] == \"C1'\":\n",
    "            index_C1.append(i)\n",
    "        else:\n",
    "            continue\n",
    "    return(index_C1)"
   ]
  },
  {
   "cell_type": "markdown",
   "metadata": {},
   "source": [
    "## Finding Distances ##\n",
    "This function finds the distance between the surrounding heteroatoms/atoms and the isoalloxazine. This function takes in two dictionaries and the desired angstrom limit. It uses the Biopandas' distance function to quickly find the distances. This function returns two dictionaries containing the distances between isoalloxzine and atoms/heteroatoms."
   ]
  },
  {
   "cell_type": "code",
   "execution_count": 5,
   "metadata": {
    "collapsed": true
   },
   "outputs": [],
   "source": [
    "def find_distance(distance_atom_dict, distance_het_dict, angstrom_limit):    \n",
    "    i = 0\n",
    "    for i in range(len(df)):\n",
    "        if ((df.residue_name[i] in key_res) and (df.atom_name[i] in key_atoms)):\n",
    "            reference_point = (df.x_coord[i], df.y_coord[i], df.z_coord[i])\n",
    "            distances_atm = ppdb.distance(xyz=reference_point, records='ATOM')\n",
    "            distances_het = ppdb.distance(xyz=reference_point, records='HETATM')\n",
    "            for c1 in check_c1_atom(): #Checking to see if C1 atom is in isoalloxazine\n",
    "                if (df.residue_number[i] == df_hetatm.residue_number[c1]):\n",
    "                    distances_het = distances_het.drop(c1)\n",
    "                else:\n",
    "                    distances_het = distances_het\n",
    "            if df.atom_name[i] in ambiguous_atom: #Checking to see which ambiguous atom is correct\n",
    "                for ind in check_ambiguous_atoms():\n",
    "                    if distances_het[ind] < 2.0: #If less than 2 Angstroms away, by recommendation of Bruce\n",
    "                        distance_het_dict[i] = distances_het[distances_het <= angstrom_limit]\n",
    "                        distance_atom_dict[i] = distances_atm[distances_atm <= angstrom_limit]\n",
    "                        break\n",
    "                    else:\n",
    "                        continue\n",
    "            else:\n",
    "                distance_het_dict[i] = distances_het[distances_het <= angstrom_limit]\n",
    "                distance_atom_dict[i] = distances_atm[distances_atm <= angstrom_limit]\n",
    "                \n",
    "    #Remove intra-isoalloxazine distances\n",
    "    for k,v in distance_het_dict.items():\n",
    "        for iso in v.index:\n",
    "            if ((df_hetatm.atom_name[iso] in key_atoms) and (df_hetatm.residue_number[iso] == df.residue_number[k])):\n",
    "                v = v.drop(iso)\n",
    "        distance_het_dict[k] = v\n",
    "        \n",
    "    #This is to reindex the indices of distance_het_dict from df_hetatm indexes to the combined df indexes\n",
    "    pairs = {}\n",
    "    for k,v in distance_het_dict.items():\n",
    "        lst = []\n",
    "        if len(v.index) != 0:\n",
    "            for targ in v.index:\n",
    "                check_res_numb = df_hetatm.residue_number[targ]\n",
    "                check_atom_name = df_hetatm.atom_name[targ]\n",
    "                new_targ = df.index[(df.residue_number == check_res_numb) & (df.atom_name == check_atom_name)]\n",
    "                lst.append((new_targ.values[0], v[targ]))\n",
    "            pairs[k] = lst\n",
    "    \n",
    "    distance_het_dict = pairs\n",
    "    \n",
    "    return (distance_atom_dict, distance_het_dict)"
   ]
  },
  {
   "cell_type": "markdown",
   "metadata": {},
   "source": [
    "## Label The Atoms ##\n",
    "This function simply relabels the distance dictionaries, replacing the atom's index number to it's residue name,\n",
    "residue number, and atom name."
   ]
  },
  {
   "cell_type": "code",
   "execution_count": 6,
   "metadata": {
    "collapsed": true
   },
   "outputs": [],
   "source": [
    "def label(distance_atom_dict, distance_het_dict):\n",
    "    new_atom = {}\n",
    "    new_het = {}\n",
    "    \n",
    "    for k,v in distance_atom_dict.items():\n",
    "        temp = []\n",
    "        for i in v.index:\n",
    "            temp.append(((df.residue_name[i] + str(df.residue_number[i]) + \":\" + df.atom_name[i]), v[i]))\n",
    "        new_atom[df.residue_name[k] + str(df.residue_number[k]) + \":\" + df.atom_name[k]] = temp\n",
    "    \n",
    "    for k,v in distance_het_dict.items():\n",
    "        temp2= []\n",
    "        for i in v:\n",
    "            temp2.append(((df.residue_name[i[0]] + str(df.residue_number[i[0]]) + \":\" + df.atom_name[i[0]]), i[1]))\n",
    "        new_het[df.residue_name[k] + str(df.residue_number[k]) + \":\" + df.atom_name[k]] = temp2\n",
    "    \n",
    "    return((new_atom, new_het))"
   ]
  },
  {
   "cell_type": "markdown",
   "metadata": {},
   "source": [
    "## Create A CSV File ##\n",
    "This function simply outputs a CSV file that contain the distances of the isoalloxazine and the surrounding atoms/heteroatoms. It creates a dataframe first for easier conversion to a CSV file."
   ]
  },
  {
   "cell_type": "code",
   "execution_count": 7,
   "metadata": {
    "collapsed": true
   },
   "outputs": [],
   "source": [
    "#Outputs a CSV file of the distances\n",
    "def make_csv(atom, het):\n",
    "    df_distance = pd.DataFrame(columns=['Reference_Atom', 'Target_Atom', 'Distance'])\n",
    "\n",
    "    a_list = []\n",
    "    b_list = []\n",
    "    c_list = []\n",
    "    for k,v in atom.items():\n",
    "        for target in v:\n",
    "            a_list.append(k)\n",
    "            b_list.append(target[0])\n",
    "            c_list.append(target[1])\n",
    "\n",
    "    for k,v in het.items():\n",
    "        for target in v:\n",
    "            a_list.append(k)\n",
    "            b_list.append(target[0])\n",
    "            c_list.append(target[1])\n",
    "\n",
    "    df_distance['Reference_Atom'] = a_list\n",
    "    df_distance['Target_Atom'] = b_list\n",
    "    df_distance['Distance'] = c_list\n",
    "    df_distance = df_distance.set_index('Reference_Atom')\n",
    "    df_distance = df_distance.sort_index()\n",
    "    csv_name = \"%s.csv\" % flavoprotein\n",
    "    df_distance.to_csv(csv_name, sep=',')"
   ]
  },
  {
   "cell_type": "code",
   "execution_count": 8,
   "metadata": {
    "collapsed": true
   },
   "outputs": [],
   "source": [
    "def main():\n",
    "    #Create empty dictionaries for distances\n",
    "    distance_atom_dict = {}\n",
    "    distance_het_dict = {}\n",
    "    \n",
    "    #Call 'find_distance' function and set empty dictionaries equal to output of the function\n",
    "    distances = find_distance(distance_atom_dict, distance_het_dict, angstrom_limit)\n",
    "    distance_atom_dict = distances[0]\n",
    "    distance_het_dict = distances[1]\n",
    "    \n",
    "    #Call 'label' function and update dictionaries to labeled dictionaries\n",
    "    relabeled = label(distance_atom_dict, distance_het_dict)\n",
    "    distance_atom_dict = relabeled[0]\n",
    "    distance_het_dict = relabeled[1]\n",
    "    \n",
    "    #Create CSV file\n",
    "    make_csv(distance_atom_dict, distance_het_dict)"
   ]
  },
  {
   "cell_type": "code",
   "execution_count": 9,
   "metadata": {
    "collapsed": true
   },
   "outputs": [],
   "source": [
    "if __name__ == \"__main__\":\n",
    "    main()"
   ]
  },
  {
   "cell_type": "code",
   "execution_count": null,
   "metadata": {
    "collapsed": true
   },
   "outputs": [],
   "source": []
  }
 ],
 "metadata": {
  "kernelspec": {
   "display_name": "Python 3",
   "language": "python",
   "name": "python3"
  },
  "language_info": {
   "codemirror_mode": {
    "name": "ipython",
    "version": 3
   },
   "file_extension": ".py",
   "mimetype": "text/x-python",
   "name": "python",
   "nbconvert_exporter": "python",
   "pygments_lexer": "ipython3",
   "version": "3.6.3"
  }
 },
 "nbformat": 4,
 "nbformat_minor": 2
}
