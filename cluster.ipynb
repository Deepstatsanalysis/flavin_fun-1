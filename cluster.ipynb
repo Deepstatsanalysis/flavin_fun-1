{
 "cells": [
  {
   "cell_type": "code",
   "execution_count": 1,
   "metadata": {
    "collapsed": true
   },
   "outputs": [],
   "source": [
    "!pip install biopandas\n",
    "!pip install pandas\n",
    "!pip install numpy\n",
    "!pip install csv\n",
    "!pip install pyplot\n",
    "!pip install mplot3d\n",
    "!pip install sklearn\n",
    "!pip install scipy\n",
    "!pip install seaborn\n",
    "\n",
    "%matplotlib inline\n",
    "\n",
    "import pandas as pd\n",
    "import numpy as np\n",
    "from biopandas.pdb import PandasPdb as PandasPdb\n",
    "import csv\n",
    "import matplotlib.pyplot as plt\n",
    "from mpl_toolkits.mplot3d import Axes3D\n",
    "\n",
    "import scipy as sp\n",
    "import scipy.spatial.distance as spd\n",
    "import scipy.cluster.hierarchy as sph\n",
    "import sklearn as sk\n",
    "import sklearn.metrics as skm\n",
    "import sklearn.cluster as skc\n",
    "import sklearn.decomposition as skd\n",
    "import sklearn.mixture as skmix\n",
    "import sklearn.manifold as manifold\n",
    "from sklearn.cluster import KMeans\n",
    "from sklearn.metrics import silhouette_samples, silhouette_score\n",
    "import seaborn as sns"
   ]
  },
  {
   "cell_type": "code",
   "execution_count": 2,
   "metadata": {
    "collapsed": true
   },
   "outputs": [],
   "source": [
    "df_pdbs = pd.read_csv('pdb_codes.txt', sep=\" \", header=None)\n",
    "df_pdbs = df_pdbs.transpose()\n",
    "df_pdbs.columns = ['pdb']\n",
    "collect_dict = {}"
   ]
  },
  {
   "cell_type": "code",
   "execution_count": 3,
   "metadata": {
    "collapsed": true
   },
   "outputs": [],
   "source": [
    "key_atoms = ['N1', 'C2', 'O2', 'N3', 'C4', 'O4', 'C4A', 'C4X', 'N5', 'C5A', 'C5X', 'C6', 'C7', 'C7M', 'C8', 'C8M', 'C9', 'C9A', 'N10', 'C10']\n",
    "key_res = ['FMN', 'FAD']\n",
    "ambiguous_atom = ['C4A', 'C4X', 'C5A', 'C5X']"
   ]
  },
  {
   "cell_type": "code",
   "execution_count": 4,
   "metadata": {
    "collapsed": true
   },
   "outputs": [],
   "source": [
    "#Find index number of N5 to check which of the ambiguous atoms are isoalloxazines\n",
    "def check_ambiguous_atoms():\n",
    "    index_N5 = []\n",
    "    for i in range(len(df_hetatm)): #Use df_hetatm instead of df because distance function reads only separated dataframe\n",
    "        if df_hetatm.atom_name[i]== 'N5':\n",
    "            index_N5.append(i)\n",
    "        else:\n",
    "            continue\n",
    "    return(index_N5)"
   ]
  },
  {
   "cell_type": "code",
   "execution_count": 5,
   "metadata": {
    "collapsed": true
   },
   "outputs": [],
   "source": [
    "#Find index number of C1 to exclude distant between isoalloxazine and C1 atom\n",
    "def check_c1_atom():\n",
    "    index_C1 = []\n",
    "    for i in range(len(df_hetatm)): #Use df_hetatm instead of df because distance function reads only separated dataframe\n",
    "        if df_hetatm.atom_name[i] == \"C1'\":\n",
    "            index_C1.append(i)\n",
    "        else:\n",
    "            continue\n",
    "    return(index_C1)"
   ]
  },
  {
   "cell_type": "code",
   "execution_count": 6,
   "metadata": {
    "collapsed": true
   },
   "outputs": [],
   "source": [
    "'''\n",
    "Finds the distance between heteroatoms/atoms and isoalloxazine. This function takes in two dictionaries and the \n",
    "desired angstrom limit. It uses the Biopandas' distance function to quickly find the distances. This function \n",
    "returns two dictionaries containing the distances between isoalloxzine and atoms/heteroatoms.\n",
    "'''\n",
    "def find_distance(distance_atom_dict, distance_het_dict, angstrom_limit):    \n",
    "    i = 0\n",
    "    for i in range(len(df)):\n",
    "        if ((df.residue_name[i] in key_res) and (df.atom_name[i] in key_atoms)):\n",
    "            reference_point = (df.x_coord[i], df.y_coord[i], df.z_coord[i])\n",
    "            distances_atm = ppdb.distance(xyz=reference_point, records='ATOM')\n",
    "            distances_het = ppdb.distance(xyz=reference_point, records='HETATM')\n",
    "            for c1 in check_c1_atom(): #Checking to see if C1 atom is in isoalloxazine\n",
    "                if (df.residue_number[i] == df_hetatm.residue_number[c1]):\n",
    "                    distances_het = distances_het.drop(c1)\n",
    "                else:\n",
    "                    distances_het = distances_het\n",
    "            if df.atom_name[i] in ambiguous_atom: #Checking to see which ambiguous atom is correct\n",
    "                for ind in check_ambiguous_atoms():\n",
    "                    if distances_het[ind] < 2.0: #If less than 2 Angstroms away, by recommendation of Bruce\n",
    "                        distance_het_dict[i] = distances_het[distances_het <= angstrom_limit]\n",
    "                        distance_atom_dict[i] = distances_atm[distances_atm <= angstrom_limit]\n",
    "                        break\n",
    "                    else:\n",
    "                        continue\n",
    "            else:\n",
    "                distance_het_dict[i] = distances_het[distances_het <= angstrom_limit]\n",
    "                distance_atom_dict[i] = distances_atm[distances_atm <= angstrom_limit]\n",
    "                \n",
    "    #Remove intra-isoalloxazine distances\n",
    "    for k,v in distance_het_dict.items():\n",
    "        for iso in v.index:\n",
    "            if ((df_hetatm.atom_name[iso] in key_atoms) and (df_hetatm.residue_number[iso] == df.residue_number[k])):\n",
    "                v = v.drop(iso)\n",
    "        distance_het_dict[k] = v\n",
    "        \n",
    "    #This is to relabel the indices of distance_het_dict from df_hetatm indexes to the combined df indexes\n",
    "    pairs = {}\n",
    "    for k,v in distance_het_dict.items():\n",
    "        lst = []\n",
    "        if len(v.index) != 0:\n",
    "            for targ in v.index:\n",
    "                check_res_numb = df_hetatm.residue_number[targ]\n",
    "                check_atom_name = df_hetatm.atom_name[targ]\n",
    "                new_targ = df.index[(df.residue_number == check_res_numb) & (df.atom_name == check_atom_name)]\n",
    "                lst.append((new_targ.values[0], v[targ]))\n",
    "            pairs[k] = lst\n",
    "    \n",
    "    distance_het_dict = pairs\n",
    "    \n",
    "    return (distance_atom_dict, distance_het_dict)"
   ]
  },
  {
   "cell_type": "code",
   "execution_count": 7,
   "metadata": {
    "collapsed": true
   },
   "outputs": [],
   "source": [
    "'''\n",
    "This function creates a dataframe of the distance relationship between each atom in the isoalloxazine and its\n",
    "surrounding atoms and heteroatoms. It also finds the chemical code associated with the target atom/heteroatom. \n",
    "'''\n",
    "def distance_dataframe(distance_atom_dict, distance_het_dict):\n",
    "    ref_atom_list = []\n",
    "    target_atom_list = []\n",
    "    distance_list = []\n",
    "\n",
    "    for k,v in distance_atom_dict.items():\n",
    "        for target, dist in v.iteritems():\n",
    "            ref_atom_list.append(k)\n",
    "            target_atom_list.append(target)\n",
    "            distance_list.append(dist)\n",
    "\n",
    "    for k,v in distance_het_dict.items():\n",
    "        for i in v:\n",
    "            ref_atom_list.append(k)\n",
    "            target_atom_list.append(i[0])\n",
    "            distance_list.append(i[1])\n",
    "\n",
    "    df_dist = pd.DataFrame()\n",
    "    df_dist['isoalloxazine'] = ref_atom_list\n",
    "    df_dist['target_atom'] = target_atom_list\n",
    "    df_dist['distance'] = distance_list\n",
    "    \n",
    "    #This is to find the associated chemical code of the target atom/heteroatm\n",
    "    code_list = []\n",
    "    for i in df_dist['target_atom']:\n",
    "        temp = df_codes.index[(df_codes.Residue == df.residue_name[i]) & (df_codes.Atom == df.atom_name[i])]\n",
    "        if len(temp) != 0:\n",
    "            code_list.append(df_codes.Code[temp[0]])\n",
    "        else:\n",
    "            code_list.append(0) #Every atom is not represented in the code doc Dr. Palfey gave us. 0 for now.\n",
    "\n",
    "    df_dist['chemical_codes'] = code_list\n",
    "    \n",
    "    #This is to find the associated chemical type of the target atom/heteroatm\n",
    "    chemical_list = []\n",
    "    for i in df_dist['chemical_codes']:\n",
    "        temp = df_chemicals.index[df_chemicals.Code == i]\n",
    "        try:\n",
    "            chemical_list.append(df_chemicals.Label[temp[0]])\n",
    "        except:\n",
    "            chemical_list.append(\"N/A\")\n",
    "    \n",
    "    df_dist['chemical_type'] = chemical_list\n",
    "    \n",
    "    return(df_dist)"
   ]
  },
  {
   "cell_type": "code",
   "execution_count": 8,
   "metadata": {
    "collapsed": true
   },
   "outputs": [],
   "source": [
    "#Use kmeans clustering to cluster flavoproteins together based on count of atom chemical tpyes\n",
    "def kmeans_cluster(df):\n",
    "    number_of_cluster = np.round(np.sqrt(len(df)/2))\n",
    "    \n",
    "    kmeans_model = skc.KMeans(n_clusters=int(number_of_cluster))\n",
    "    kmeans_model.fit(df)\n",
    "    \n",
    "    centroids = kmeans_model.cluster_centers_\n",
    "    df['cluster_labels_kmeans'] = kmeans_model.labels_\n",
    "    \n",
    "    return(df)"
   ]
  },
  {
   "cell_type": "code",
   "execution_count": 9,
   "metadata": {
    "collapsed": true
   },
   "outputs": [],
   "source": [
    "#Create a dendrogram using heirarchical clustering\n",
    "def create_dendrogram(df_value):\n",
    "    dist_value = spd.squareform(spd.pdist(df_value,metric='euclidean'))\n",
    "    dist_value.shape\n",
    "    Z_lang = sph.linkage(dist_value,method='ward') #Choose between single, complete, ward for method\n",
    "    _ = sph.dendrogram(Z_lang, labels=df_value.index, orientation='left')\n",
    "    plt.xlabel('Data Points')\n",
    "    plt.ylabel('Flavoproteins')\n",
    "    plt.suptitle('Dendrogram: Chemical-type count at ' + str(angstrom_limit) + ' limit', \n",
    "                 fontweight='bold', fontsize=14);"
   ]
  },
  {
   "cell_type": "markdown",
   "metadata": {},
   "source": [
    "### \"Main\" Function ###\n",
    "This code doesn't have a main(). This is because the code is looping through all the available pdb files. Dataframes and key variables have to constantly be updated for the next pdb file."
   ]
  },
  {
   "cell_type": "code",
   "execution_count": null,
   "metadata": {},
   "outputs": [
    {
     "name": "stdout",
     "output_type": "stream",
     "text": [
      "Please enter desired angstrom limit: 3.5\n",
      "Please enter bioassembly number. Enter 0 if not needed: 1\n",
      "1ahv1ahz1amo1an91aog1b2r1b371b4v1b5q1b5t1b8s1bf31bgj1bgn1bhy1bjk1bkw1bqe1buc1bwc1bx01bx11bzl1c0i1c0k1c0l1c0p1cbo1cc21cc41cc61cf31cj21cj31cj41cjc1cl01cne1cnf1coy1cqx1d4a1d4c1d4d1d4e1d7y1ddg1ddi1ddo1dii1diq1dnc1dnp1dob1doc1dod1doe1dxl1dxo1dxq1dzn1e0y1e1k1e1l1e1m1e1n1e6e1e7p1e8g1ebd1efp1efv1egc1egd1ege1el51el71el81el91eli1ep11ep21ep31evi1ewy1f0x1f201f3p1f6m"
     ]
    }
   ],
   "source": [
    "angstrom_limit = float(input(\"Please enter desired angstrom limit: \"))\n",
    "bioassembly = input(\"Please enter bioassembly number. Enter 0 if not needed: \")\n",
    "flavoprotein = df_pdbs['pdb']\n",
    "\n",
    "for pdb in flavoprotein:\n",
    "    #Checks to see if pdb file is downloaded\n",
    "    try:\n",
    "        #Checks to see if user wants to load biological assemblies or not\n",
    "        if bioassembly == '0':\n",
    "            ppdb = PandasPdb().read_pdb(\"/Volumes/USB20FD/FlavinTest/%s.pdb\" % pdb)\n",
    "        else:\n",
    "            ppdb = PandasPdb().read_pdb(\"/Volumes/USB20FD/FlavinTest/%s.pdb\" % pdb + bioassembly)\n",
    "        \n",
    "        #Create dataframe of flavoprotein from pdb file\n",
    "        df_atom = ppdb.df['ATOM']\n",
    "        df_hetatm = ppdb.df['HETATM']\n",
    "        df = pd.concat([df_atom, df_hetatm])\n",
    "        df = df.reset_index(drop=True)\n",
    "\n",
    "        #Dataframe of the codes for atom types\n",
    "        df_codes = pd.read_csv(\"code.csv\")\n",
    "\n",
    "        #Dataframe of the chemical names of the codes\n",
    "        df_chemicals = pd.read_csv(\"code_labels.csv\")\n",
    "        \n",
    "        #Create dictionaries to hold distances\n",
    "        distance_atom_dict = {}\n",
    "        distance_het_dict = {}\n",
    "        \n",
    "        #Fill dictionaries with distances from 'distance' function\n",
    "        distances = find_distance(distance_atom_dict, distance_het_dict, angstrom_limit)\n",
    "        distance_atom_dict = distances[0]\n",
    "        distance_het_dict = distances[1]\n",
    "        \n",
    "        #Create dataframe of distances\n",
    "        df_distance = distance_dataframe(distance_atom_dict, distance_het_dict)\n",
    "        \n",
    "        #Dictionary the holds informaion on count of chemical types for each flavoprotein\n",
    "        collect_dict[pdb] = df_distance.chemical_type.value_counts()\n",
    "        \n",
    "        #Fill dataframe with 'collect_dict' information\n",
    "        df_value = pd.DataFrame(collect_dict)\n",
    "        df_value = df_value.transpose()\n",
    "        df_value = df_value.fillna(0)\n",
    "        df_value = df_value.astype(int)\n",
    "        \n",
    "        print(pdb, end='')\n",
    "    except:\n",
    "        continue\n",
    "        \n",
    "df_value = kmeans_cluster(df_value)"
   ]
  },
  {
   "cell_type": "code",
   "execution_count": null,
   "metadata": {
    "collapsed": true
   },
   "outputs": [],
   "source": [
    "df_value.head()"
   ]
  },
  {
   "cell_type": "code",
   "execution_count": 267,
   "metadata": {},
   "outputs": [
    {
     "name": "stderr",
     "output_type": "stream",
     "text": [
      "/Users/davidkim/anaconda3/lib/python3.6/site-packages/ipykernel_launcher.py:5: ClusterWarning: scipy.cluster: The symmetric non-negative hollow observation matrix looks suspiciously like an uncondensed distance matrix\n",
      "  \"\"\"\n"
     ]
    },
    {
     "data": {
      "image/png": "[encoded data removed]",
      "text/plain": [
       "<matplotlib.figure.Figure at 0x1a142922b0>"
      ]
     },
     "metadata": {},
     "output_type": "display_data"
    }
   ],
   "source": [
    "create_dendrogram(df_value)"
   ]
  },
  {
   "cell_type": "code",
   "execution_count": null,
   "metadata": {
    "collapsed": true
   },
   "outputs": [],
   "source": []
  }
 ],
 "metadata": {
  "kernelspec": {
   "display_name": "Python 3",
   "language": "python",
   "name": "python3"
  },
  "language_info": {
   "codemirror_mode": {
    "name": "ipython",
    "version": 3
   },
   "file_extension": ".py",
   "mimetype": "text/x-python",
   "name": "python",
   "nbconvert_exporter": "python",
   "pygments_lexer": "ipython3",
   "version": "3.6.3"
  }
 },
 "nbformat": 4,
 "nbformat_minor": 2
}
